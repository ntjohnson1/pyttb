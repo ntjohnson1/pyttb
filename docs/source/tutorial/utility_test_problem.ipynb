{
 "cells": [
  {
   "cell_type": "markdown",
   "id": "f1c6d8db",
   "metadata": {
    "vscode": {
     "languageId": "plaintext"
    }
   },
   "source": [
    "# Creating Test Problems\n",
    "```\n",
    "Copyright 2025 National Technology & Engineering Solutions of Sandia,\n",
    "LLC (NTESS). Under the terms of Contract DE-NA0003525 with NTESS, the\n",
    "U.S. Government retains certain rights in this software.\n",
    "```"
   ]
  },
  {
   "cell_type": "markdown",
   "id": "31511b37",
   "metadata": {},
   "source": [
    "We demonstrate how to use the `create_problem` function to create test problems for decomposition algorithms. "
   ]
  },
  {
   "cell_type": "code",
   "execution_count": 1,
   "id": "afb832c2",
   "metadata": {},
   "outputs": [],
   "source": [
    "import pyttb as ttb\n",
    "from pyttb.create_problem import (\n",
    "    CPProblem,\n",
    "    TuckerProblem,\n",
    "    MissingData,\n",
    "    DataParams,\n",
    "    create_problem,\n",
    ")"
   ]
  },
  {
   "cell_type": "code",
   "execution_count": 2,
   "id": "9451a579",
   "metadata": {},
   "outputs": [],
   "source": [
    "# Set global random seed for reproducibility of this notebook\n",
    "import numpy as np\n",
    "\n",
    "np.random.seed(123)"
   ]
  },
  {
   "cell_type": "markdown",
   "id": "7771e8fe",
   "metadata": {},
   "source": [
    "## Create a CP test problem\n",
    "The `create_problem` function generates both the solution (as a `ktensor` for CP) and the test data (as a dense `tensor`)."
   ]
  },
  {
   "cell_type": "code",
   "execution_count": 3,
   "id": "e6191ae4",
   "metadata": {},
   "outputs": [],
   "source": [
    "# Create a problem\n",
    "cp_specific_params = CPProblem(shape=(5, 4, 3), num_factors=3)\n",
    "data_params = DataParams(noise=0.1)\n",
    "no_missing_data = MissingData()\n",
    "solution, data = create_problem(cp_specific_params, no_missing_data, data_params)"
   ]
  },
  {
   "cell_type": "code",
   "execution_count": 4,
   "id": "8745779d",
   "metadata": {},
   "outputs": [
    {
     "name": "stdout",
     "output_type": "stream",
     "text": [
      "ktensor of shape (5, 4, 3) with order F\n",
      "weights=[0.94416002 0.50183668 0.62395295]\n",
      "factor_matrices[0] =\n",
      "[[-1.0856306   0.99734545  0.2829785 ]\n",
      " [-1.50629471 -0.57860025  1.65143654]\n",
      " [-2.42667924 -0.42891263  1.26593626]\n",
      " [-0.8667404  -0.67888615 -0.09470897]\n",
      " [ 1.49138963 -0.638902   -0.44398196]]\n",
      "factor_matrices[1] =\n",
      "[[-0.43435128  2.20593008  2.18678609]\n",
      " [ 1.0040539   0.3861864   0.73736858]\n",
      " [ 1.49073203 -0.93583387  1.17582904]\n",
      " [-1.25388067 -0.6377515   0.9071052 ]]\n",
      "factor_matrices[2] =\n",
      "[[-1.4286807  -0.14006872 -0.8617549 ]\n",
      " [-0.25561937 -2.79858911 -1.7715331 ]\n",
      " [-0.69987723  0.92746243 -0.17363568]]\n"
     ]
    }
   ],
   "source": [
    "# Display the solution\n",
    "print(solution)"
   ]
  },
  {
   "cell_type": "code",
   "execution_count": 5,
   "id": "b0bc3232",
   "metadata": {},
   "outputs": [
    {
     "name": "stdout",
     "output_type": "stream",
     "text": [
      "tensor of shape (5, 4, 3) with order F\n",
      "data[:, :, 0] =\n",
      "[[-1.18990893  1.28446351  2.07235179 -1.87633271]\n",
      " [-3.12652349  1.07273265  2.34701048 -3.14030325]\n",
      " [-2.81968366  2.67865791  4.10636867 -4.33460199]\n",
      " [-0.49910248  1.58553609  1.67667918 -1.4803083 ]\n",
      " [ 1.5935628  -1.73784063 -2.7256112   2.76967403]]\n",
      "data[:, :, 1] =\n",
      "[[-4.02748914 -0.53027464  1.39868896  0.35255157]\n",
      " [-2.24482406 -0.51914665 -2.34027329 -2.45371282]\n",
      " [-2.02367801 -0.3794908  -1.16866717 -2.43337295]\n",
      " [ 2.46562453  0.78956773 -0.26223999 -0.47003828]\n",
      " [ 3.48686179  0.07186695 -1.21278825  0.24950518]]\n",
      "data[:, :, 2] =\n",
      "[[ 0.84583153  0.55670008  0.42026956 -0.99690908]\n",
      " [-1.5567177   0.8349424   1.8725418  -1.14868937]\n",
      " [-1.57718852  1.46198797  2.6604315  -2.05249945]\n",
      " [-0.82259772  0.42556336  1.14869343 -0.65901074]\n",
      " [-0.28411876 -1.17623054 -1.27449033  1.31403245]]\n"
     ]
    }
   ],
   "source": [
    "# Display the data\n",
    "print(data)"
   ]
  },
  {
   "cell_type": "code",
   "execution_count": 6,
   "id": "14a85431",
   "metadata": {},
   "outputs": [
    {
     "name": "stdout",
     "output_type": "stream",
     "text": [
      "0.1\n"
     ]
    }
   ],
   "source": [
    "# The difference between the true solution and measured data\n",
    "# should match the specified noise setting\n",
    "diff = (solution.full() - data).norm() / solution.full().norm()\n",
    "print(diff)"
   ]
  },
  {
   "cell_type": "markdown",
   "id": "1b7abeb5",
   "metadata": {},
   "source": [
    "## Creating a Tucker test problem\n",
    "The `create_problem` function can also create Tucker problems by providing a `TuckerParams` data class as the first argument to `create_problem` instead. In this case, the function generates the solution as a `ttensor`."
   ]
  },
  {
   "cell_type": "code",
   "execution_count": 7,
   "id": "f7af9632",
   "metadata": {},
   "outputs": [],
   "source": [
    "tucker_specific_params = TuckerProblem(shape=(5, 4, 3), num_factors=[3, 3, 2])\n",
    "data_params = DataParams(noise=0.1)\n",
    "no_missing_data = MissingData()\n",
    "solution, data = create_problem(tucker_specific_params, no_missing_data, data_params)"
   ]
  },
  {
   "cell_type": "code",
   "execution_count": 8,
   "id": "699c9ecc",
   "metadata": {},
   "outputs": [
    {
     "name": "stdout",
     "output_type": "stream",
     "text": [
      "TTensor of shape: (5, 4, 3)\n",
      "\tCore is a\n",
      "\t\ttensor of shape (3, 3, 2) with order F\n",
      "\t\tdata[:, :, 0] =\n",
      "\t\t[[ 2.29546945  0.8628987  -0.13287838]\n",
      "\t\t [ 0.31529775  0.94012555 -1.24988658]\n",
      "\t\t [-0.75751615  0.66752096 -1.84400643]]\n",
      "\t\tdata[:, :, 1] =\n",
      "\t\t[[ 0.82319976  0.06143129 -0.31048223]\n",
      "\t\t [-0.71417742  1.06731682  0.3213871 ]\n",
      "\t\t [ 0.33786152 -1.90931822  0.37383405]]\n",
      "\tU[0] = \n",
      "\t\t[[ 0.93898923  0.43781947  1.14109158]\n",
      "\t\t [ 0.17145177 -1.54957884 -0.97402348]\n",
      "\t\t [-1.0491106  -0.46483438 -0.49055989]\n",
      "\t\t [ 1.0007457   2.14851419  1.43240926]\n",
      "\t\t [-0.13335333  0.00577405 -0.66762081]]\n",
      "\tU[1] = \n",
      "\t\t[[-0.94061891  0.93080981  0.04634267]\n",
      "\t\t [ 1.33673724  0.28026028  1.49663046]\n",
      "\t\t [-0.68415163  0.335301   -1.12855526]\n",
      "\t\t [-0.13372712 -0.78503925 -0.23590284]]\n",
      "\tU[2] = \n",
      "\t\t[[-1.41195749 -0.88776123]\n",
      "\t\t [ 0.10426711  0.42249603]\n",
      "\t\t [-0.20072189 -1.41672713]]\n",
      "\n"
     ]
    }
   ],
   "source": [
    "# Display the solution\n",
    "print(solution)"
   ]
  },
  {
   "cell_type": "code",
   "execution_count": 9,
   "id": "48285087",
   "metadata": {},
   "outputs": [
    {
     "name": "stdout",
     "output_type": "stream",
     "text": [
      "tensor of shape (5, 4, 3) with order F\n",
      "data[:, :, 0] =\n",
      "[[ 1.90571751  1.29306932 -2.66047991  0.4787608 ]\n",
      " [ 3.32632534 -8.24046905  7.05868556 -0.94570443]\n",
      " [-1.70172708  2.04521885  0.47297378 -1.76717467]\n",
      " [-1.77933637  5.49652024 -7.81954496  2.61105222]\n",
      " [-0.62849444 -2.47539421  1.61469082  0.71437041]]\n",
      "data[:, :, 1] =\n",
      "[[-0.90290826  0.53648692  0.06304186  0.10529605]\n",
      " [-0.59241983  0.91173894 -0.68241772  0.38676663]\n",
      " [ 0.40853234 -0.04163589  0.21205378  0.08396353]\n",
      " [-0.53454083  0.26397327  0.43616478 -0.47223017]\n",
      " [ 0.07478656 -0.04549533  0.20458064 -0.37257969]]\n",
      "data[:, :, 2] =\n",
      "[[ 3.01781992 -1.167676    1.59175537 -0.96841114]\n",
      " [ 1.37702074 -0.87936349  0.47784026 -0.01377307]\n",
      " [-1.51797541  1.40668289 -0.8199048   0.2912658 ]\n",
      " [-0.00535056 -0.77270545  0.0753881   0.21781704]\n",
      " [-1.98105208  0.16641742 -0.82378859  1.06506215]]\n"
     ]
    }
   ],
   "source": [
    "# Display the data\n",
    "print(data)"
   ]
  },
  {
   "cell_type": "code",
   "execution_count": 10,
   "id": "9305a0be",
   "metadata": {},
   "outputs": [
    {
     "name": "stdout",
     "output_type": "stream",
     "text": [
      "0.1\n"
     ]
    }
   ],
   "source": [
    "# The difference between the true solution and measured data\n",
    "# should match the specified noise setting\n",
    "diff = (solution.full() - data).norm() / solution.full().norm()\n",
    "print(diff)"
   ]
  },
  {
   "cell_type": "markdown",
   "id": "a3cdffab",
   "metadata": {},
   "source": [
    "## Recreating the same test problem\n",
    "We are still relying on numpy's deprecated global random state. See [#441](https://github.com/sandialabs/pyttb/issues/441)"
   ]
  },
  {
   "cell_type": "code",
   "execution_count": 11,
   "id": "4d836930",
   "metadata": {},
   "outputs": [],
   "source": [
    "# Problem details\n",
    "shape = [5, 4, 3]\n",
    "num_factors = 3\n",
    "seed = 123\n",
    "missing_params = MissingData()\n",
    "data_params = DataParams()\n",
    "cp_specific_params = CPProblem(shape, num_factors=num_factors)"
   ]
  },
  {
   "cell_type": "code",
   "execution_count": 12,
   "id": "21c10394",
   "metadata": {},
   "outputs": [],
   "source": [
    "# Generate the first test problem\n",
    "np.random.seed(seed)\n",
    "solution_1, data_1 = create_problem(cp_specific_params, missing_params, data_params)"
   ]
  },
  {
   "cell_type": "code",
   "execution_count": 13,
   "id": "749f8aae",
   "metadata": {},
   "outputs": [],
   "source": [
    "# Generate the second test problem\n",
    "np.random.seed(seed)\n",
    "solution_2, data_2 = create_problem(cp_specific_params, missing_params, data_params)"
   ]
  },
  {
   "cell_type": "code",
   "execution_count": 14,
   "id": "6c6dd4a6",
   "metadata": {},
   "outputs": [
    {
     "name": "stdout",
     "output_type": "stream",
     "text": [
      "solution_1.isequal(solution_2)=True\n",
      "(data_1-data_2).norm()=0.0\n"
     ]
    }
   ],
   "source": [
    "# Check that the solutions are identical\n",
    "print(f\"{solution_1.isequal(solution_2)=}\")\n",
    "\n",
    "# Check that the data are identical\n",
    "print(f\"{(data_1-data_2).norm()=}\")"
   ]
  },
  {
   "cell_type": "markdown",
   "id": "90a399d2",
   "metadata": {},
   "source": [
    "## Options for creating factor matrices, core tensors, and weights\n",
    "\n",
    "User specified functions may be provided to generate the relevant components of `ktensors` or `ttensors`."
   ]
  },
  {
   "cell_type": "code",
   "execution_count": 15,
   "id": "7e20d77a",
   "metadata": {},
   "outputs": [
    {
     "name": "stdout",
     "output_type": "stream",
     "text": [
      "[1. 1.]\n"
     ]
    }
   ],
   "source": [
    "# Example custom weight generator for CP Problems\n",
    "cp_specific_params = CPProblem(shape=[5, 4, 3], num_factors=2, weight_generator=np.ones)\n",
    "solution, _ = create_problem(cp_specific_params, missing_params, data_params)\n",
    "print(f\"{solution.weights}\")"
   ]
  },
  {
   "cell_type": "code",
   "execution_count": 16,
   "id": "4f18ec86",
   "metadata": {},
   "outputs": [
    {
     "name": "stdout",
     "output_type": "stream",
     "text": [
      "tensor of shape (2, 2, 2) with order F\n",
      "data[:, :, 0] =\n",
      "[[1. 1.]\n",
      " [1. 1.]]\n",
      "data[:, :, 1] =\n",
      "[[1. 1.]\n",
      " [1. 1.]]\n"
     ]
    }
   ],
   "source": [
    "# Example custom core generator for Tucker\n",
    "tucker_specific_params = TuckerProblem(\n",
    "    shape=[5, 4, 3], num_factors=[2, 2, 2], core_generator=ttb.tenones\n",
    ")\n",
    "solution, _ = create_problem(tucker_specific_params, missing_params, data_params)\n",
    "print(f\"{solution.core}\")"
   ]
  },
  {
   "cell_type": "markdown",
   "id": "40db96b5",
   "metadata": {},
   "source": [
    "## Create dense missing data problems\n",
    "It's possible to create problems that have a percentage of missing data. The problem generator randomly creates the pattern of missing data."
   ]
  },
  {
   "cell_type": "code",
   "execution_count": 21,
   "id": "e6ceafb2",
   "metadata": {},
   "outputs": [
    {
     "name": "stdout",
     "output_type": "stream",
     "text": [
      "tensor of shape (5, 4, 3) with order F\n",
      "data[:, :, 0] =\n",
      "[[1. 1. 1. 1.]\n",
      " [1. 1. 1. 1.]\n",
      " [1. 0. 0. 1.]\n",
      " [1. 0. 1. 1.]\n",
      " [0. 0. 1. 1.]]\n",
      "data[:, :, 1] =\n",
      "[[1. 0. 1. 1.]\n",
      " [0. 1. 1. 1.]\n",
      " [0. 0. 1. 0.]\n",
      " [0. 1. 0. 1.]\n",
      " [0. 1. 1. 1.]]\n",
      "data[:, :, 2] =\n",
      "[[1. 1. 1. 1.]\n",
      " [1. 0. 1. 1.]\n",
      " [1. 1. 1. 0.]\n",
      " [1. 1. 1. 1.]\n",
      " [1. 1. 1. 1.]]\n"
     ]
    }
   ],
   "source": [
    "# Specify 25% missing data\n",
    "missing_data_params = MissingData(missing_ratio=0.25)\n",
    "\n",
    "# Show an example of randomly generated pattern\n",
    "# 1 is known 0 is unknown\n",
    "print(missing_data_params.get_pattern(shape=[5, 4, 3]))"
   ]
  },
  {
   "cell_type": "code",
   "execution_count": 24,
   "id": "de646ec4",
   "metadata": {},
   "outputs": [],
   "source": [
    "# Generate problem using a newly sampled pattern\n",
    "solution, data = create_problem(cp_specific_params, missing_data_params, data_params)"
   ]
  },
  {
   "cell_type": "code",
   "execution_count": 26,
   "id": "a51a3e70",
   "metadata": {},
   "outputs": [
    {
     "name": "stdout",
     "output_type": "stream",
     "text": [
      "tensor of shape (5, 4, 3) with order F\n",
      "data[:, :, 0] =\n",
      "[[ 0.26328253 -0.10368023  2.55048192 -3.57426141]\n",
      " [ 0.94610094  0.         -0.33422528  0.        ]\n",
      " [-0.92754391  0.06078374 -0.58964057  1.05604786]\n",
      " [ 0.09245559  0.09024844 -0.30026929  1.37588424]\n",
      " [ 0.          0.28395231  1.72801315 -0.92447749]]\n",
      "data[:, :, 1] =\n",
      "[[ 9.52217582e+00 -0.00000000e+00  0.00000000e+00 -6.69297443e+00]\n",
      " [ 1.15649571e+00  0.00000000e+00  5.55042375e-01 -1.65046604e+00]\n",
      " [-4.51899793e+00  0.00000000e+00  5.78509093e-01  0.00000000e+00]\n",
      " [-2.79055031e+00  0.00000000e+00  4.46173850e-01  2.02037594e+00]\n",
      " [ 0.00000000e+00 -4.02815924e-01 -7.73108195e-01  8.60303664e-03]]\n",
      "data[:, :, 2] =\n",
      "[[ 3.79691232 -0.06051519  0.65215482 -0.        ]\n",
      " [ 0.88487369 -0.32951914 -0.         -0.4502584 ]\n",
      " [-2.0738586  -0.1541553  -0.01849825  0.        ]\n",
      " [-0.88031719  0.          0.          1.15149304]\n",
      " [-0.26446742 -0.16180758  0.39415731 -0.15164033]]\n"
     ]
    }
   ],
   "source": [
    "# Show data (including noise) with missing entries zeroed out\n",
    "print(data)"
   ]
  },
  {
   "cell_type": "markdown",
   "id": "b318629f",
   "metadata": {},
   "source": [
    "## Creating sparse missing data problems\n",
    "If `sparse_models` is set to true then the returned data is sparse. This should only be used with `missing_ratio` >= 0.8."
   ]
  },
  {
   "cell_type": "code",
   "execution_count": null,
   "id": "475f352b",
   "metadata": {},
   "outputs": [
    {
     "name": "stdout",
     "output_type": "stream",
     "text": [
      "sparse tensor of shape (5, 4, 3) with 12 nonzeros and order F\n",
      "[2, 0, 0] = 1.0\n",
      "[4, 1, 2] = 1.0\n",
      "[0, 2, 1] = 1.0\n",
      "[3, 1, 0] = 1.0\n",
      "[0, 3, 2] = 1.0\n",
      "[4, 1, 0] = 1.0\n",
      "[2, 0, 2] = 1.0\n",
      "[1, 0, 2] = 1.0\n",
      "[0, 1, 2] = 1.0\n",
      "[4, 2, 0] = 1.0\n",
      "[4, 3, 0] = 1.0\n",
      "[4, 1, 1] = 1.0\n"
     ]
    }
   ],
   "source": [
    "missing_data_params = MissingData(missing_ratio=0.8, sparse_model=True)\n",
    "\n",
    "# Here is a candidate pattern of known data\n",
    "print(missing_data_params.get_pattern([5, 4, 3]))"
   ]
  },
  {
   "cell_type": "code",
   "execution_count": 28,
   "id": "927d028b",
   "metadata": {},
   "outputs": [
    {
     "name": "stdout",
     "output_type": "stream",
     "text": [
      "sparse tensor of shape (5, 4, 3) with 12 nonzeros and order F\n",
      "[0, 0, 2] = -5.383104265170353\n",
      "[1, 0, 1] = 1.3205409642301527\n",
      "[1, 3, 1] = 0.37245008604597707\n",
      "[2, 1, 0] = 3.4968221275551286\n",
      "[2, 3, 0] = -0.60505637068868\n",
      "[3, 1, 0] = 1.2090679007381293\n",
      "[3, 3, 0] = 0.465905565990883\n",
      "[3, 3, 1] = -0.4776597676392981\n",
      "[4, 2, 0] = 1.322753952503849\n",
      "[4, 2, 2] = 4.164836676033628\n",
      "[4, 3, 1] = 0.04320152879052623\n",
      "[4, 3, 2] = 0.5475986467539911\n"
     ]
    }
   ],
   "source": [
    "# Here is the data (including noise) with zeros not explicitly represented.\n",
    "solution, data = create_problem(cp_specific_params, missing_data_params, data_params)\n",
    "print(data)"
   ]
  },
  {
   "cell_type": "markdown",
   "id": "b0a4db7a",
   "metadata": {},
   "source": [
    "## Create missing data problems with pre-specified pattern\n",
    "A specific pattern (dense or sparse) can be use to represent missing data. This is also currently the recommended approach for reproducibility."
   ]
  },
  {
   "cell_type": "code",
   "execution_count": 29,
   "id": "499efc37",
   "metadata": {},
   "outputs": [
    {
     "name": "stdout",
     "output_type": "stream",
     "text": [
      "tensor of shape (5, 4, 3) with order F\n",
      "data[:, :, 0] =\n",
      "[[ 1.12259246 -0.62712395  0.37444797  0.14341225]\n",
      " [ 0.         -0.23923868 -0.28106573 -0.        ]\n",
      " [-2.19406735 -0.         -1.26176736 -0.96253911]\n",
      " [ 1.19096803  0.73586963  0.82194128  0.71532815]\n",
      " [-0.06070134  0.18508213  0.05135651 -0.09115959]]\n",
      "data[:, :, 1] =\n",
      "[[ 0.         -2.17818307  0.00366178  0.        ]\n",
      " [-0.51123889  0.          0.         -0.30924106]\n",
      " [-2.75480765 -0.36658613 -1.36684341 -1.02292674]\n",
      " [ 0.9916353   0.          0.72938433  0.66456863]\n",
      " [-0.40295989  0.38817973 -0.07536029 -0.03630603]]\n",
      "data[:, :, 2] =\n",
      "[[-1.17821661  1.27948531  0.16695706 -0.        ]\n",
      " [-0.         -0.15915173 -0.17588344  0.02034108]\n",
      " [-0.          0.          0.         -0.33177688]\n",
      " [ 0.61206739 -0.17658631  0.1972258   0.        ]\n",
      " [ 0.         -0.21265941 -0.00546545  0.07131428]]\n"
     ]
    }
   ],
   "source": [
    "# Grab a pattern from before\n",
    "pattern = MissingData(missing_ratio=0.25).get_pattern([5, 4, 3])\n",
    "missing_data_params = MissingData(missing_pattern=pattern)\n",
    "solution, data = create_problem(cp_specific_params, missing_data_params, data_params)\n",
    "print(data)"
   ]
  }
 ],
 "metadata": {
  "kernelspec": {
   "display_name": ".venv",
   "language": "python",
   "name": "python3"
  },
  "language_info": {
   "codemirror_mode": {
    "name": "ipython",
    "version": 3
   },
   "file_extension": ".py",
   "mimetype": "text/x-python",
   "name": "python",
   "nbconvert_exporter": "python",
   "pygments_lexer": "ipython3",
   "version": "3.11.12"
  }
 },
 "nbformat": 4,
 "nbformat_minor": 5
}
